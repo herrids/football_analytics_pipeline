{
  "cells": [
    {
      "cell_type": "code",
      "execution_count": 1,
      "metadata": {
        "colab": {
          "base_uri": "https://localhost:8080/"
        },
        "id": "Pp47-8g92cRd",
        "outputId": "5f942848-57e4-4f3f-e017-04b12faa8634"
      },
      "outputs": [
        {
          "name": "stdout",
          "output_type": "stream",
          "text": [
            "Looking in indexes: https://pypi.org/simple, https://us-python.pkg.dev/colab-wheels/public/simple/\n",
            "Requirement already satisfied: fuzzywuzzy in /usr/local/lib/python3.7/dist-packages (0.18.0)\n",
            "Requirement already satisfied: s3fs in /usr/local/lib/python3.7/dist-packages (2022.5.0)\n",
            "Requirement already satisfied: aiobotocore~=2.3.0 in /usr/local/lib/python3.7/dist-packages (from s3fs) (2.3.3)\n",
            "Requirement already satisfied: fsspec==2022.5.0 in /usr/local/lib/python3.7/dist-packages (from s3fs) (2022.5.0)\n",
            "Requirement already satisfied: aiohttp<=4 in /usr/local/lib/python3.7/dist-packages (from s3fs) (3.8.1)\n",
            "Requirement already satisfied: botocore<1.24.22,>=1.24.21 in /usr/local/lib/python3.7/dist-packages (from aiobotocore~=2.3.0->s3fs) (1.24.21)\n",
            "Requirement already satisfied: wrapt>=1.10.10 in /usr/local/lib/python3.7/dist-packages (from aiobotocore~=2.3.0->s3fs) (1.14.1)\n",
            "Requirement already satisfied: aioitertools>=0.5.1 in /usr/local/lib/python3.7/dist-packages (from aiobotocore~=2.3.0->s3fs) (0.10.0)\n",
            "Requirement already satisfied: yarl<2.0,>=1.0 in /usr/local/lib/python3.7/dist-packages (from aiohttp<=4->s3fs) (1.7.2)\n",
            "Requirement already satisfied: attrs>=17.3.0 in /usr/local/lib/python3.7/dist-packages (from aiohttp<=4->s3fs) (21.4.0)\n",
            "Requirement already satisfied: asynctest==0.13.0 in /usr/local/lib/python3.7/dist-packages (from aiohttp<=4->s3fs) (0.13.0)\n",
            "Requirement already satisfied: frozenlist>=1.1.1 in /usr/local/lib/python3.7/dist-packages (from aiohttp<=4->s3fs) (1.3.0)\n",
            "Requirement already satisfied: async-timeout<5.0,>=4.0.0a3 in /usr/local/lib/python3.7/dist-packages (from aiohttp<=4->s3fs) (4.0.2)\n",
            "Requirement already satisfied: charset-normalizer<3.0,>=2.0 in /usr/local/lib/python3.7/dist-packages (from aiohttp<=4->s3fs) (2.0.12)\n",
            "Requirement already satisfied: aiosignal>=1.1.2 in /usr/local/lib/python3.7/dist-packages (from aiohttp<=4->s3fs) (1.2.0)\n",
            "Requirement already satisfied: typing-extensions>=3.7.4 in /usr/local/lib/python3.7/dist-packages (from aiohttp<=4->s3fs) (4.2.0)\n",
            "Requirement already satisfied: multidict<7.0,>=4.5 in /usr/local/lib/python3.7/dist-packages (from aiohttp<=4->s3fs) (6.0.2)\n",
            "Requirement already satisfied: urllib3<1.27,>=1.25.4 in /usr/local/lib/python3.7/dist-packages (from botocore<1.24.22,>=1.24.21->aiobotocore~=2.3.0->s3fs) (1.26.9)\n",
            "Requirement already satisfied: jmespath<2.0.0,>=0.7.1 in /usr/local/lib/python3.7/dist-packages (from botocore<1.24.22,>=1.24.21->aiobotocore~=2.3.0->s3fs) (1.0.0)\n",
            "Requirement already satisfied: python-dateutil<3.0.0,>=2.1 in /usr/local/lib/python3.7/dist-packages (from botocore<1.24.22,>=1.24.21->aiobotocore~=2.3.0->s3fs) (2.8.2)\n",
            "Requirement already satisfied: six>=1.5 in /usr/local/lib/python3.7/dist-packages (from python-dateutil<3.0.0,>=2.1->botocore<1.24.22,>=1.24.21->aiobotocore~=2.3.0->s3fs) (1.15.0)\n",
            "Requirement already satisfied: idna>=2.0 in /usr/local/lib/python3.7/dist-packages (from yarl<2.0,>=1.0->aiohttp<=4->s3fs) (2.10)\n"
          ]
        },
        {
          "name": "stderr",
          "output_type": "stream",
          "text": [
            "/usr/local/lib/python3.7/dist-packages/fuzzywuzzy/fuzz.py:11: UserWarning: Using slow pure-python SequenceMatcher. Install python-Levenshtein to remove this warning\n",
            "  warnings.warn('Using slow pure-python SequenceMatcher. Install python-Levenshtein to remove this warning')\n"
          ]
        }
      ],
      "source": [
        "!pip install fuzzywuzzy s3fs\n",
        "\n",
        "import os, glob, json\n",
        "import pandas as pd\n",
        "import numpy as np\n",
        "from datetime import datetime\n",
        "from IPython.display import clear_output \n",
        "from fuzzywuzzy import fuzz\n",
        "from s3fs import S3FileSystem"
      ]
    },
    {
      "cell_type": "markdown",
      "metadata": {
        "id": "WgGA1j0c6iNB"
      },
      "source": [
        "## Step 1: Scope the Project and Gather Data"
      ]
    },
    {
      "cell_type": "code",
      "execution_count": 2,
      "metadata": {
        "id": "EASUSMbUsQhf"
      },
      "outputs": [],
      "source": [
        "data_dir = \"drive/MyDrive/udacity_capstone\""
      ]
    },
    {
      "cell_type": "markdown",
      "metadata": {
        "id": "bPOsVb48gGH9"
      },
      "source": [
        "First we load all match data and convert the `match_date` column to a datetime type so we can filter by date."
      ]
    },
    {
      "cell_type": "code",
      "execution_count": 3,
      "metadata": {
        "id": "fCVFUOjq8NdH"
      },
      "outputs": [],
      "source": [
        "matches_files_dir = \"statsbomb-football-data/matches/11/\"\n",
        "\n",
        "json_pattern = os.path.join(f\"{data_dir}/{matches_files_dir}\",'*.json')\n",
        "file_list = glob.glob(json_pattern)\n",
        "\n",
        "matches = []\n",
        "\n",
        "for file in file_list:\n",
        "\n",
        "    with open(file) as f:\n",
        "      d = json.load(f)\n",
        "      data = pd.json_normalize(d)\n",
        "      matches.append(data)\n",
        "\n",
        "matches_df = pd.concat(matches, ignore_index=True)"
      ]
    },
    {
      "cell_type": "code",
      "execution_count": 4,
      "metadata": {
        "id": "apXWHJWCqIYl"
      },
      "outputs": [],
      "source": [
        "matches_df[\"match_date\"] = pd.to_datetime(matches_df[\"match_date\"] + \" \" + matches_df[\"kick_off\"])\n",
        "matches_df = matches_df[matches_df[\"match_date\"] >= '2014-08-01']"
      ]
    },
    {
      "cell_type": "markdown",
      "metadata": {
        "id": "vHarrTj_gnjl"
      },
      "source": [
        "The matches data looks pretty complete. Only the Referee data seems missing about 20% and the manager data is only there in 95%."
      ]
    },
    {
      "cell_type": "markdown",
      "metadata": {
        "id": "iLW_o7OnhTJ8"
      },
      "source": [
        "We then import the events data. This process takes the longest (~ 3 minutes for 1 million datapoints) since every matche's events are saved in a seperate JSON. Here also on of the biggest challenges arises. The data is saved very unnormalized. We can still import it to pandas and normalize it but this leads to very sparse data. We normalize it again as dimensions."
      ]
    },
    {
      "cell_type": "code",
      "execution_count": 7,
      "metadata": {
        "colab": {
          "base_uri": "https://localhost:8080/"
        },
        "id": "WypL7mKpryUf",
        "outputId": "dba484bb-2826-4045-814d-6555b1403d79"
      },
      "outputs": [
        {
          "name": "stdout",
          "output_type": "stream",
          "text": [
            "243/243 files done\n"
          ]
        }
      ],
      "source": [
        "event_file_list = matches_df.match_id.tolist()\n",
        "\n",
        "events_files_dir = \"statsbomb-football-data/events\"\n",
        "\n",
        "events = []\n",
        "count = 0\n",
        "for event_file in event_file_list:\n",
        "    with open(f\"{data_dir}/{events_files_dir}/{event_file}.json\") as f:\n",
        "      d = json.load(f)\n",
        "      data = pd.json_normalize(d)\n",
        "      data['match_id'] = event_file\n",
        "      data['match_date'] = matches_df.loc[matches_df[\"match_id\"] == event_file, 'match_date'].item()\n",
        "      events.append(data)\n",
        "    count += 1\n",
        "    clear_output()\n",
        "    print(f\"{count}/{len(event_file_list)} files done\")\n",
        "\n",
        "all_events = pd.concat(events, ignore_index=True)\n"
      ]
    },
    {
      "cell_type": "markdown",
      "metadata": {
        "id": "e7PdbLJkNgXT"
      },
      "source": [
        "We then import the player data including their FIFA stats. SInce we are only looking at La Liga games of FC Barcelona we can already filter out all player of Spain Primera Division."
      ]
    },
    {
      "cell_type": "code",
      "execution_count": 9,
      "metadata": {
        "colab": {
          "base_uri": "https://localhost:8080/"
        },
        "id": "AB8WaU9oNiZ-",
        "outputId": "e39d02cf-8054-4c2c-afc3-9bb2b2f6e9dd"
      },
      "outputs": [
        {
          "name": "stderr",
          "output_type": "stream",
          "text": [
            "/usr/local/lib/python3.7/dist-packages/IPython/core/interactiveshell.py:2882: DtypeWarning: Columns (25,108) have mixed types.Specify dtype option on import or set low_memory=False.\n",
            "  exec(code_obj, self.user_global_ns, self.user_ns)\n",
            "/usr/local/lib/python3.7/dist-packages/IPython/core/interactiveshell.py:2882: DtypeWarning: Columns (104) have mixed types.Specify dtype option on import or set low_memory=False.\n",
            "  exec(code_obj, self.user_global_ns, self.user_ns)\n",
            "/usr/local/lib/python3.7/dist-packages/IPython/core/interactiveshell.py:2882: DtypeWarning: Columns (81,82,83,84,85) have mixed types.Specify dtype option on import or set low_memory=False.\n",
            "  exec(code_obj, self.user_global_ns, self.user_ns)\n"
          ]
        }
      ],
      "source": [
        "players_files_dir = \"fifa\"\n",
        "\n",
        "json_pattern = os.path.join(f\"{data_dir}/{players_files_dir}\",'*.csv')\n",
        "player_file_list = glob.glob(json_pattern)\n",
        "\n",
        "all_players = pd.read_csv(f\"{data_dir}/{players_files_dir}/players_22.csv\")\n",
        "all_players = all_players[all_players[\"league_name\"] == \"Spain Primera Division\"]\n",
        "\n",
        "for player_file in player_file_list:\n",
        "  player_ids = all_players[\"sofifa_id\"].to_list()\n",
        "  new_players = pd.read_csv(player_file)\n",
        "  new_players = new_players[new_players[\"league_name\"] == \"Spain Primera Division\"]\n",
        "  new_players = new_players[~new_players[\"sofifa_id\"].isin(player_ids)]\n",
        "  all_players = all_players.append(new_players, ignore_index = True)"
      ]
    },
    {
      "cell_type": "markdown",
      "metadata": {
        "id": "oOC3mK-UPEzg"
      },
      "source": [
        "## Step 2: Explore and Asses Data"
      ]
    },
    {
      "cell_type": "markdown",
      "metadata": {
        "id": "WyT-0TRxkI-A"
      },
      "source": [
        "We have to map event data to Fifa data based on the players name. We therefore check how many players don't have a matching name in both datasets"
      ]
    },
    {
      "cell_type": "code",
      "execution_count": 11,
      "metadata": {
        "id": "eOcUzcCWQfXO"
      },
      "outputs": [],
      "source": [
        "player_names = all_events[all_events[\"player.name\"].notnull()][\"player.name\"].unique().tolist()\n",
        "event_players = all_players[all_players[\"long_name\"].isin(player_names)]"
      ]
    },
    {
      "cell_type": "code",
      "execution_count": 12,
      "metadata": {
        "colab": {
          "base_uri": "https://localhost:8080/"
        },
        "id": "WXz4t-lHRRIM",
        "outputId": "db1f2c01-68ea-4fed-bdb1-963f06aadedd"
      },
      "outputs": [
        {
          "name": "stdout",
          "output_type": "stream",
          "text": [
            "Unknown Player: 172\n"
          ]
        }
      ],
      "source": [
        "unknown_players = [x for x in player_names if x not in event_players[\"long_name\"].to_list()]\n",
        "print(f\"Unknown Player: {len(unknown_players)}\")"
      ]
    },
    {
      "cell_type": "markdown",
      "metadata": {
        "id": "Ex5lW7FZklAw"
      },
      "source": [
        "There is a chance that one dataset might is missing an additional name or has a different way of writing a name. We therefore use the library `fuzzywuzzy` which gives a ratio how similar two strings are."
      ]
    },
    {
      "cell_type": "code",
      "execution_count": 13,
      "metadata": {
        "colab": {
          "base_uri": "https://localhost:8080/",
          "height": 424
        },
        "id": "paX1-ET2VyPX",
        "outputId": "bb18b999-4b00-4d74-8b16-4d9dace5d12c"
      },
      "outputs": [
        {
          "data": {
            "text/html": [
              "\n",
              "  <div id=\"df-9151ef1b-72f6-457a-8d31-535d3249456c\">\n",
              "    <div class=\"colab-df-container\">\n",
              "      <div>\n",
              "<style scoped>\n",
              "    .dataframe tbody tr th:only-of-type {\n",
              "        vertical-align: middle;\n",
              "    }\n",
              "\n",
              "    .dataframe tbody tr th {\n",
              "        vertical-align: top;\n",
              "    }\n",
              "\n",
              "    .dataframe thead th {\n",
              "        text-align: right;\n",
              "    }\n",
              "</style>\n",
              "<table border=\"1\" class=\"dataframe\">\n",
              "  <thead>\n",
              "    <tr style=\"text-align: right;\">\n",
              "      <th></th>\n",
              "      <th>score</th>\n",
              "      <th>correct_name</th>\n",
              "      <th>incomplete_name</th>\n",
              "    </tr>\n",
              "  </thead>\n",
              "  <tbody>\n",
              "    <tr>\n",
              "      <th>0</th>\n",
              "      <td>100</td>\n",
              "      <td>Steven N'Kemboanza Mike Christopher Nzonzi</td>\n",
              "      <td>Steven N''Kemboanza Mike Christopher Nzonzi</td>\n",
              "    </tr>\n",
              "    <tr>\n",
              "      <th>1</th>\n",
              "      <td>98</td>\n",
              "      <td>Sergio Roberto Carnicer</td>\n",
              "      <td>Sergi Roberto Carnicer</td>\n",
              "    </tr>\n",
              "    <tr>\n",
              "      <th>2</th>\n",
              "      <td>100</td>\n",
              "      <td>Luciano Darío Vietto</td>\n",
              "      <td>Luciano Vietto</td>\n",
              "    </tr>\n",
              "    <tr>\n",
              "      <th>3</th>\n",
              "      <td>98</td>\n",
              "      <td>Neymar da Silva Santos Júnior</td>\n",
              "      <td>Neymar da Silva Santos Junior</td>\n",
              "    </tr>\n",
              "    <tr>\n",
              "      <th>4</th>\n",
              "      <td>100</td>\n",
              "      <td>Vicente Iborra de la Fuente</td>\n",
              "      <td>Vicente Iborra De La Fuente</td>\n",
              "    </tr>\n",
              "    <tr>\n",
              "      <th>...</th>\n",
              "      <td>...</td>\n",
              "      <td>...</td>\n",
              "      <td>...</td>\n",
              "    </tr>\n",
              "    <tr>\n",
              "      <th>167</th>\n",
              "      <td>56</td>\n",
              "      <td>Armando Sadiku</td>\n",
              "      <td>Saidy Janko</td>\n",
              "    </tr>\n",
              "    <tr>\n",
              "      <th>168</th>\n",
              "      <td>100</td>\n",
              "      <td>Juan Cruz Álvaro Armada</td>\n",
              "      <td>Álvaro Juan Cruz Armada</td>\n",
              "    </tr>\n",
              "    <tr>\n",
              "      <th>169</th>\n",
              "      <td>98</td>\n",
              "      <td>Edgar Badia Guardiola</td>\n",
              "      <td>Edgar Badía Guardiola</td>\n",
              "    </tr>\n",
              "    <tr>\n",
              "      <th>170</th>\n",
              "      <td>70</td>\n",
              "      <td>Emiliano Buendía</td>\n",
              "      <td>Emiliano Ariel Rigoni</td>\n",
              "    </tr>\n",
              "    <tr>\n",
              "      <th>171</th>\n",
              "      <td>100</td>\n",
              "      <td>Yeremi Jesús Santos Pino</td>\n",
              "      <td>Yeremi Jesús Pino Santos</td>\n",
              "    </tr>\n",
              "  </tbody>\n",
              "</table>\n",
              "<p>172 rows × 3 columns</p>\n",
              "</div>\n",
              "      <button class=\"colab-df-convert\" onclick=\"convertToInteractive('df-9151ef1b-72f6-457a-8d31-535d3249456c')\"\n",
              "              title=\"Convert this dataframe to an interactive table.\"\n",
              "              style=\"display:none;\">\n",
              "        \n",
              "  <svg xmlns=\"http://www.w3.org/2000/svg\" height=\"24px\"viewBox=\"0 0 24 24\"\n",
              "       width=\"24px\">\n",
              "    <path d=\"M0 0h24v24H0V0z\" fill=\"none\"/>\n",
              "    <path d=\"M18.56 5.44l.94 2.06.94-2.06 2.06-.94-2.06-.94-.94-2.06-.94 2.06-2.06.94zm-11 1L8.5 8.5l.94-2.06 2.06-.94-2.06-.94L8.5 2.5l-.94 2.06-2.06.94zm10 10l.94 2.06.94-2.06 2.06-.94-2.06-.94-.94-2.06-.94 2.06-2.06.94z\"/><path d=\"M17.41 7.96l-1.37-1.37c-.4-.4-.92-.59-1.43-.59-.52 0-1.04.2-1.43.59L10.3 9.45l-7.72 7.72c-.78.78-.78 2.05 0 2.83L4 21.41c.39.39.9.59 1.41.59.51 0 1.02-.2 1.41-.59l7.78-7.78 2.81-2.81c.8-.78.8-2.07 0-2.86zM5.41 20L4 18.59l7.72-7.72 1.47 1.35L5.41 20z\"/>\n",
              "  </svg>\n",
              "      </button>\n",
              "      \n",
              "  <style>\n",
              "    .colab-df-container {\n",
              "      display:flex;\n",
              "      flex-wrap:wrap;\n",
              "      gap: 12px;\n",
              "    }\n",
              "\n",
              "    .colab-df-convert {\n",
              "      background-color: #E8F0FE;\n",
              "      border: none;\n",
              "      border-radius: 50%;\n",
              "      cursor: pointer;\n",
              "      display: none;\n",
              "      fill: #1967D2;\n",
              "      height: 32px;\n",
              "      padding: 0 0 0 0;\n",
              "      width: 32px;\n",
              "    }\n",
              "\n",
              "    .colab-df-convert:hover {\n",
              "      background-color: #E2EBFA;\n",
              "      box-shadow: 0px 1px 2px rgba(60, 64, 67, 0.3), 0px 1px 3px 1px rgba(60, 64, 67, 0.15);\n",
              "      fill: #174EA6;\n",
              "    }\n",
              "\n",
              "    [theme=dark] .colab-df-convert {\n",
              "      background-color: #3B4455;\n",
              "      fill: #D2E3FC;\n",
              "    }\n",
              "\n",
              "    [theme=dark] .colab-df-convert:hover {\n",
              "      background-color: #434B5C;\n",
              "      box-shadow: 0px 1px 3px 1px rgba(0, 0, 0, 0.15);\n",
              "      filter: drop-shadow(0px 1px 2px rgba(0, 0, 0, 0.3));\n",
              "      fill: #FFFFFF;\n",
              "    }\n",
              "  </style>\n",
              "\n",
              "      <script>\n",
              "        const buttonEl =\n",
              "          document.querySelector('#df-9151ef1b-72f6-457a-8d31-535d3249456c button.colab-df-convert');\n",
              "        buttonEl.style.display =\n",
              "          google.colab.kernel.accessAllowed ? 'block' : 'none';\n",
              "\n",
              "        async function convertToInteractive(key) {\n",
              "          const element = document.querySelector('#df-9151ef1b-72f6-457a-8d31-535d3249456c');\n",
              "          const dataTable =\n",
              "            await google.colab.kernel.invokeFunction('convertToInteractive',\n",
              "                                                     [key], {});\n",
              "          if (!dataTable) return;\n",
              "\n",
              "          const docLinkHtml = 'Like what you see? Visit the ' +\n",
              "            '<a target=\"_blank\" href=https://colab.research.google.com/notebooks/data_table.ipynb>data table notebook</a>'\n",
              "            + ' to learn more about interactive tables.';\n",
              "          element.innerHTML = '';\n",
              "          dataTable['output_type'] = 'display_data';\n",
              "          await google.colab.output.renderOutput(dataTable, element);\n",
              "          const docLink = document.createElement('div');\n",
              "          docLink.innerHTML = docLinkHtml;\n",
              "          element.appendChild(docLink);\n",
              "        }\n",
              "      </script>\n",
              "    </div>\n",
              "  </div>\n",
              "  "
            ],
            "text/plain": [
              "     score                                correct_name  \\\n",
              "0      100  Steven N'Kemboanza Mike Christopher Nzonzi   \n",
              "1       98                     Sergio Roberto Carnicer   \n",
              "2      100                        Luciano Darío Vietto   \n",
              "3       98               Neymar da Silva Santos Júnior   \n",
              "4      100                 Vicente Iborra de la Fuente   \n",
              "..     ...                                         ...   \n",
              "167     56                              Armando Sadiku   \n",
              "168    100                     Juan Cruz Álvaro Armada   \n",
              "169     98                       Edgar Badia Guardiola   \n",
              "170     70                            Emiliano Buendía   \n",
              "171    100                    Yeremi Jesús Santos Pino   \n",
              "\n",
              "                                 incomplete_name  \n",
              "0    Steven N''Kemboanza Mike Christopher Nzonzi  \n",
              "1                         Sergi Roberto Carnicer  \n",
              "2                                 Luciano Vietto  \n",
              "3                  Neymar da Silva Santos Junior  \n",
              "4                    Vicente Iborra De La Fuente  \n",
              "..                                           ...  \n",
              "167                                  Saidy Janko  \n",
              "168                      Álvaro Juan Cruz Armada  \n",
              "169                        Edgar Badía Guardiola  \n",
              "170                        Emiliano Ariel Rigoni  \n",
              "171                     Yeremi Jesús Pino Santos  \n",
              "\n",
              "[172 rows x 3 columns]"
            ]
          },
          "execution_count": 13,
          "metadata": {},
          "output_type": "execute_result"
        }
      ],
      "source": [
        "fuzzy_player_matching = [max([[fuzz.token_set_ratio(j,i),i, j] for i in all_players[\"long_name\"].to_list()]) for j in unknown_players]\n",
        "fuzzy_player_matching = pd.DataFrame(fuzzy_player_matching, columns=[\"score\", \"correct_name\", \"incomplete_name\"])\n",
        "fuzzy_player_matching"
      ]
    },
    {
      "cell_type": "markdown",
      "metadata": {
        "id": "1bsqyqDPlBkw"
      },
      "source": [
        "We see that names with a score higher than 80 seems to be the same. We therefore add them to the `event_player` DataFrame."
      ]
    },
    {
      "cell_type": "code",
      "execution_count": 14,
      "metadata": {
        "id": "yeb4nyIQg8xM"
      },
      "outputs": [],
      "source": [
        "guessed_unknown_players = fuzzy_player_matching[fuzzy_player_matching[\"score\"] > 85][\"correct_name\"].to_list()\n",
        "event_players = event_players.append(all_players[all_players[\"long_name\"].isin(guessed_unknown_players)])"
      ]
    },
    {
      "cell_type": "markdown",
      "metadata": {
        "id": "zQv9pV2alpCo"
      },
      "source": [
        "We are still missing the names of around 1,3% of all events. We plot those names to see their distribution."
      ]
    },
    {
      "cell_type": "code",
      "execution_count": 15,
      "metadata": {
        "colab": {
          "base_uri": "https://localhost:8080/"
        },
        "id": "Va9wF6QX2gG0",
        "outputId": "1f6ef15b-04e1-4a2d-c528-02f37d011a7c"
      },
      "outputs": [
        {
          "name": "stdout",
          "output_type": "stream",
          "text": [
            "Still unknown players: 61\n",
            "Percentage of events of unknown player: 0.013021169207487467\n"
          ]
        }
      ],
      "source": [
        "print(f\"Still unknown players: {len(unknown_players) - len(guessed_unknown_players)}\")\n",
        "unknown_players = fuzzy_player_matching[fuzzy_player_matching[\"score\"]<= 85][\"incomplete_name\"].to_list()\n",
        "print(f\"Percentage of events of unknown player: {len(all_events[all_events['player.name'].isin(unknown_players)])/len(all_events)}\")"
      ]
    },
    {
      "cell_type": "markdown",
      "metadata": {
        "id": "-nwafnH8l2vX"
      },
      "source": [
        "We can clearly see that most events are from Sergino Dest, who is a known FC Barcelona player. By looking at the fuzzy matching we see that his score of 72 didn't made the cut. So we add him manually. By looking up some of the other players we see that the problem is, that they have been on a loan to La Liga during winter break and therefore are not recognized as La Liga players by Fifa. Since those players only answer for 0,8% of the events we accept it as waste."
      ]
    },
    {
      "cell_type": "code",
      "execution_count": 16,
      "metadata": {
        "colab": {
          "base_uri": "https://localhost:8080/",
          "height": 386
        },
        "id": "rXJIt6z207B5",
        "outputId": "b19afed3-1d4f-4054-9171-69995cbb4c1f"
      },
      "outputs": [
        {
          "data": {
            "text/plain": [
              "<matplotlib.axes._subplots.AxesSubplot at 0x7fece0767a10>"
            ]
          },
          "execution_count": 16,
          "metadata": {},
          "output_type": "execute_result"
        },
        {
          "data": {
            "image/png": "[encoded data removed]",
            "text/plain": [
              "<Figure size 864x216 with 1 Axes>"
            ]
          },
          "metadata": {
            "needs_background": "light"
          },
          "output_type": "display_data"
        }
      ],
      "source": [
        "all_events[all_events['player.name'].isin(unknown_players)][\"player.name\"] \\\n",
        "  .value_counts().sort_values().plot(kind=\"bar\", figsize=(12,3))"
      ]
    },
    {
      "cell_type": "code",
      "execution_count": 17,
      "metadata": {
        "id": "dvN7t_0A5zb5"
      },
      "outputs": [],
      "source": [
        "event_players = event_players.append(all_players[all_players[\"long_name\"] == \"Sergiño Gianni Dest\"])\n",
        "fuzzy_player_matching.loc[fuzzy_player_matching.index[fuzzy_player_matching['correct_name'] == \"Sergiño Gianni Dest\"], \"score\"] = 100"
      ]
    },
    {
      "cell_type": "markdown",
      "metadata": {
        "id": "ARRypD7YmtqO"
      },
      "source": [
        "We change the correct name for all events to be consistent over both datasets."
      ]
    },
    {
      "cell_type": "code",
      "execution_count": 18,
      "metadata": {
        "id": "RLjc3QMB-cEX"
      },
      "outputs": [],
      "source": [
        "for index, row in fuzzy_player_matching[fuzzy_player_matching[\"score\"] > 85].iterrows():\n",
        "  all_events[\"player.name\"] = all_events[\"player.name\"].replace(row[\"incomplete_name\"], row[\"correct_name\"])"
      ]
    },
    {
      "cell_type": "markdown",
      "metadata": {
        "id": "Bw-aZ97cm8fO"
      },
      "source": [
        "The same we did for players we also do for the team names and we have no waste here but FC Barcelona is guessed incorrectly we therefore need to change it manually as well."
      ]
    },
    {
      "cell_type": "code",
      "execution_count": 19,
      "metadata": {
        "id": "j4DDn_CSmIZB"
      },
      "outputs": [],
      "source": [
        "matches_df = matches_df.replace(\"Barcelona\", \"FC Barcelona\")\n",
        "incomplete_teamnames = matches_df[\"home_team.home_team_name\"].unique()\n",
        "correct_teamnames = all_players[\"club_name\"].unique()"
      ]
    },
    {
      "cell_type": "code",
      "execution_count": 20,
      "metadata": {
        "id": "-5VR-7AknNnt"
      },
      "outputs": [],
      "source": [
        "fuzzy_team_matching = [max([(fuzz.token_set_ratio(j,i),i, j) for i in correct_teamnames.tolist()]) for j in incomplete_teamnames.tolist()]"
      ]
    },
    {
      "cell_type": "code",
      "execution_count": 21,
      "metadata": {
        "colab": {
          "base_uri": "https://localhost:8080/"
        },
        "id": "N7yNn1uvm5GJ",
        "outputId": "bc16117a-c809-46be-d9b6-0955dc84d808"
      },
      "outputs": [
        {
          "data": {
            "text/plain": [
              "[(100, 'Sevilla FC', 'Sevilla'),\n",
              " (100, 'CA Osasuna', 'Osasuna'),\n",
              " (100, 'Real Madrid CF', 'Real Madrid'),\n",
              " (100, 'CD Leganés', 'Leganés'),\n",
              " (100, 'FC Barcelona', 'FC Barcelona'),\n",
              " (100, 'Athletic Club de Bilbao', 'Athletic Club'),\n",
              " (100, 'Real Betis Balompié', 'Real Betis'),\n",
              " (100, 'Unión Deportiva Las Palmas', 'Las Palmas'),\n",
              " (100, 'Villarreal CF', 'Villarreal'),\n",
              " (100, 'Valencia CF', 'Valencia'),\n",
              " (90, 'Deportivo de La Coruña', 'Deportivo La Coruna'),\n",
              " (100, 'Deportivo Alavés', 'Deportivo Alavés'),\n",
              " (100, 'SD Eibar', 'Eibar'),\n",
              " (100, 'Málaga CF', 'Málaga'),\n",
              " (100, 'RCD Espanyol de Barcelona', 'Espanyol'),\n",
              " (100, 'Atlético de Madrid', 'Atlético Madrid'),\n",
              " (100, 'Real Sociedad', 'Real Sociedad'),\n",
              " (100, 'Getafe CF', 'Getafe'),\n",
              " (100, 'Córdoba CF', 'Córdoba'),\n",
              " (100, 'Rayo Vallecano', 'Rayo Vallecano'),\n",
              " (100, 'Elche CF', 'Elche'),\n",
              " (100, 'Granada CF', 'Granada'),\n",
              " (100, 'Unión Deportiva Almería', 'Almería'),\n",
              " (100, 'RC Celta de Vigo', 'Celta Vigo'),\n",
              " (100, 'Levante Unión Deportiva', 'Levante'),\n",
              " (100, 'Real Sporting de Gijón', 'Sporting Gijón'),\n",
              " (100, 'Real Valladolid CF', 'Real Valladolid'),\n",
              " (100, 'RCD Mallorca', 'Mallorca'),\n",
              " (100, 'Girona FC', 'Girona'),\n",
              " (100, 'SD Huesca', 'Huesca'),\n",
              " (100, 'Cádiz CF', 'Cádiz')]"
            ]
          },
          "execution_count": 21,
          "metadata": {},
          "output_type": "execute_result"
        }
      ],
      "source": [
        "fuzzy_team_matching"
      ]
    },
    {
      "cell_type": "code",
      "execution_count": 22,
      "metadata": {
        "id": "FSzOEnPzpZGP"
      },
      "outputs": [],
      "source": [
        "for team in fuzzy_team_matching:\n",
        "  matches_df = matches_df.replace(team[2], team[1])"
      ]
    },
    {
      "cell_type": "markdown",
      "metadata": {
        "id": "MSunNjPFDj6F"
      },
      "source": [
        "To get rid of the sparse table we want to save the attribute values in a seperate facts table. We therefore go through all attributes and save them in a new DataFrame. We also need to rename some of the attribute names for better matching the columns."
      ]
    },
    {
      "cell_type": "code",
      "execution_count": 23,
      "metadata": {
        "id": "OF9PqCN-W1ub"
      },
      "outputs": [],
      "source": [
        "all_events[\"type.name\"] = all_events[\"type.name\"] \\\n",
        "  .replace(\"Goal Keeper\", \"Goalkeeper\") \\\n",
        "  .replace(\"Ball Receipt*\", \"Ball Receipt\") \\\n",
        "  .replace(\"50/50\", \"50_50\")"
      ]
    },
    {
      "cell_type": "code",
      "execution_count": 24,
      "metadata": {
        "id": "aTycgMRHDx-M"
      },
      "outputs": [],
      "source": [
        "events_df = all_events\n",
        "attributes = []\n",
        "\n",
        "for type_name in events_df[\"type.name\"].unique():\n",
        "  type_columns = [col for col in events_df.columns if type_name.lower().replace(\" \", \"_\") in col]\n",
        "\n",
        "  if len(type_columns)>0:\n",
        "    for attribute in type_columns:\n",
        "      if attribute.endswith(\".id\") or attribute.endswith(\".freeze_frame\"):\n",
        "        events_df.drop(attribute, axis=1, inplace=True)\n",
        "        continue\n",
        "      data = events_df[events_df[attribute].notna()][[\"id\", \"match_date\", attribute]]\n",
        "      data[\"value\"] = data[attribute]\n",
        "      data = data.drop(attribute, axis=1)\n",
        "      data[\"name\"] = attribute\n",
        "      events_df.drop(attribute, axis=1, inplace=True)\n",
        "      attributes.append(data)\n",
        "\n",
        "attributes_df = pd.concat(attributes, ignore_index=True)"
      ]
    },
    {
      "cell_type": "code",
      "execution_count": 25,
      "metadata": {
        "colab": {
          "base_uri": "https://localhost:8080/",
          "height": 206
        },
        "id": "pwwrC3KrGn7s",
        "outputId": "0e2b7e7b-7b19-4dea-c32c-20634ee653be"
      },
      "outputs": [
        {
          "data": {
            "text/html": [
              "\n",
              "  <div id=\"df-5b62a087-3265-49d5-a809-9ae47af3c461\">\n",
              "    <div class=\"colab-df-container\">\n",
              "      <div>\n",
              "<style scoped>\n",
              "    .dataframe tbody tr th:only-of-type {\n",
              "        vertical-align: middle;\n",
              "    }\n",
              "\n",
              "    .dataframe tbody tr th {\n",
              "        vertical-align: top;\n",
              "    }\n",
              "\n",
              "    .dataframe thead th {\n",
              "        text-align: right;\n",
              "    }\n",
              "</style>\n",
              "<table border=\"1\" class=\"dataframe\">\n",
              "  <thead>\n",
              "    <tr style=\"text-align: right;\">\n",
              "      <th></th>\n",
              "      <th>id</th>\n",
              "      <th>match_date</th>\n",
              "      <th>value</th>\n",
              "      <th>name</th>\n",
              "    </tr>\n",
              "  </thead>\n",
              "  <tbody>\n",
              "    <tr>\n",
              "      <th>0</th>\n",
              "      <td>3ae35b11-2f48-4f9b-b92a-efa43aeae36b</td>\n",
              "      <td>2015-01-04 21:00:00</td>\n",
              "      <td>True</td>\n",
              "      <td>half_start.late_video_start</td>\n",
              "    </tr>\n",
              "    <tr>\n",
              "      <th>1</th>\n",
              "      <td>fffce76b-0aee-4fff-9e64-b16b83050e40</td>\n",
              "      <td>2015-01-04 21:00:00</td>\n",
              "      <td>True</td>\n",
              "      <td>half_start.late_video_start</td>\n",
              "    </tr>\n",
              "    <tr>\n",
              "      <th>2</th>\n",
              "      <td>bc608e09-1dab-431f-a285-9f6c484e575e</td>\n",
              "      <td>2018-05-06 20:45:00</td>\n",
              "      <td>True</td>\n",
              "      <td>half_start.late_video_start</td>\n",
              "    </tr>\n",
              "    <tr>\n",
              "      <th>3</th>\n",
              "      <td>aee27872-47ff-421c-8592-d51e7de27078</td>\n",
              "      <td>2018-05-06 20:45:00</td>\n",
              "      <td>True</td>\n",
              "      <td>half_start.late_video_start</td>\n",
              "    </tr>\n",
              "    <tr>\n",
              "      <th>4</th>\n",
              "      <td>9ace527b-d86a-40ce-b106-3c31a3b74e0a</td>\n",
              "      <td>2019-04-02 21:30:00</td>\n",
              "      <td>True</td>\n",
              "      <td>half_start.late_video_start</td>\n",
              "    </tr>\n",
              "  </tbody>\n",
              "</table>\n",
              "</div>\n",
              "      <button class=\"colab-df-convert\" onclick=\"convertToInteractive('df-5b62a087-3265-49d5-a809-9ae47af3c461')\"\n",
              "              title=\"Convert this dataframe to an interactive table.\"\n",
              "              style=\"display:none;\">\n",
              "        \n",
              "  <svg xmlns=\"http://www.w3.org/2000/svg\" height=\"24px\"viewBox=\"0 0 24 24\"\n",
              "       width=\"24px\">\n",
              "    <path d=\"M0 0h24v24H0V0z\" fill=\"none\"/>\n",
              "    <path d=\"M18.56 5.44l.94 2.06.94-2.06 2.06-.94-2.06-.94-.94-2.06-.94 2.06-2.06.94zm-11 1L8.5 8.5l.94-2.06 2.06-.94-2.06-.94L8.5 2.5l-.94 2.06-2.06.94zm10 10l.94 2.06.94-2.06 2.06-.94-2.06-.94-.94-2.06-.94 2.06-2.06.94z\"/><path d=\"M17.41 7.96l-1.37-1.37c-.4-.4-.92-.59-1.43-.59-.52 0-1.04.2-1.43.59L10.3 9.45l-7.72 7.72c-.78.78-.78 2.05 0 2.83L4 21.41c.39.39.9.59 1.41.59.51 0 1.02-.2 1.41-.59l7.78-7.78 2.81-2.81c.8-.78.8-2.07 0-2.86zM5.41 20L4 18.59l7.72-7.72 1.47 1.35L5.41 20z\"/>\n",
              "  </svg>\n",
              "      </button>\n",
              "      \n",
              "  <style>\n",
              "    .colab-df-container {\n",
              "      display:flex;\n",
              "      flex-wrap:wrap;\n",
              "      gap: 12px;\n",
              "    }\n",
              "\n",
              "    .colab-df-convert {\n",
              "      background-color: #E8F0FE;\n",
              "      border: none;\n",
              "      border-radius: 50%;\n",
              "      cursor: pointer;\n",
              "      display: none;\n",
              "      fill: #1967D2;\n",
              "      height: 32px;\n",
              "      padding: 0 0 0 0;\n",
              "      width: 32px;\n",
              "    }\n",
              "\n",
              "    .colab-df-convert:hover {\n",
              "      background-color: #E2EBFA;\n",
              "      box-shadow: 0px 1px 2px rgba(60, 64, 67, 0.3), 0px 1px 3px 1px rgba(60, 64, 67, 0.15);\n",
              "      fill: #174EA6;\n",
              "    }\n",
              "\n",
              "    [theme=dark] .colab-df-convert {\n",
              "      background-color: #3B4455;\n",
              "      fill: #D2E3FC;\n",
              "    }\n",
              "\n",
              "    [theme=dark] .colab-df-convert:hover {\n",
              "      background-color: #434B5C;\n",
              "      box-shadow: 0px 1px 3px 1px rgba(0, 0, 0, 0.15);\n",
              "      filter: drop-shadow(0px 1px 2px rgba(0, 0, 0, 0.3));\n",
              "      fill: #FFFFFF;\n",
              "    }\n",
              "  </style>\n",
              "\n",
              "      <script>\n",
              "        const buttonEl =\n",
              "          document.querySelector('#df-5b62a087-3265-49d5-a809-9ae47af3c461 button.colab-df-convert');\n",
              "        buttonEl.style.display =\n",
              "          google.colab.kernel.accessAllowed ? 'block' : 'none';\n",
              "\n",
              "        async function convertToInteractive(key) {\n",
              "          const element = document.querySelector('#df-5b62a087-3265-49d5-a809-9ae47af3c461');\n",
              "          const dataTable =\n",
              "            await google.colab.kernel.invokeFunction('convertToInteractive',\n",
              "                                                     [key], {});\n",
              "          if (!dataTable) return;\n",
              "\n",
              "          const docLinkHtml = 'Like what you see? Visit the ' +\n",
              "            '<a target=\"_blank\" href=https://colab.research.google.com/notebooks/data_table.ipynb>data table notebook</a>'\n",
              "            + ' to learn more about interactive tables.';\n",
              "          element.innerHTML = '';\n",
              "          dataTable['output_type'] = 'display_data';\n",
              "          await google.colab.output.renderOutput(dataTable, element);\n",
              "          const docLink = document.createElement('div');\n",
              "          docLink.innerHTML = docLinkHtml;\n",
              "          element.appendChild(docLink);\n",
              "        }\n",
              "      </script>\n",
              "    </div>\n",
              "  </div>\n",
              "  "
            ],
            "text/plain": [
              "                                     id          match_date value  \\\n",
              "0  3ae35b11-2f48-4f9b-b92a-efa43aeae36b 2015-01-04 21:00:00  True   \n",
              "1  fffce76b-0aee-4fff-9e64-b16b83050e40 2015-01-04 21:00:00  True   \n",
              "2  bc608e09-1dab-431f-a285-9f6c484e575e 2018-05-06 20:45:00  True   \n",
              "3  aee27872-47ff-421c-8592-d51e7de27078 2018-05-06 20:45:00  True   \n",
              "4  9ace527b-d86a-40ce-b106-3c31a3b74e0a 2019-04-02 21:30:00  True   \n",
              "\n",
              "                          name  \n",
              "0  half_start.late_video_start  \n",
              "1  half_start.late_video_start  \n",
              "2  half_start.late_video_start  \n",
              "3  half_start.late_video_start  \n",
              "4  half_start.late_video_start  "
            ]
          },
          "execution_count": 25,
          "metadata": {},
          "output_type": "execute_result"
        }
      ],
      "source": [
        "attributes_df.head()"
      ]
    },
    {
      "cell_type": "markdown",
      "metadata": {
        "id": "pVmStsL7JXZj"
      },
      "source": [
        "### Partitioning\n",
        "\n",
        "The further processing is happening in Airflow. We therefore save the preprocessed data as csv to a S3 bucket. The events and attributes data is partioned by match_date to minimize data skewness.\n",
        "\n",
        "NOTE: The file type csv was chosen because compatibility problems were experienced in between paquet and redshift."
      ]
    },
    {
      "cell_type": "code",
      "execution_count": 26,
      "metadata": {
        "id": "TjyTySlBKSJO"
      },
      "outputs": [],
      "source": [
        "BUCKET_NAME = \"capstone-football\"\n",
        "FILE_SUFFIX = f\"{matches_df['match_date'].min().strftime('%Y%m%d')}-{matches_df['match_date'].max().strftime('%Y%m%d')}\""
      ]
    },
    {
      "cell_type": "code",
      "execution_count": 27,
      "metadata": {
        "id": "aouaYaVGQERF"
      },
      "outputs": [],
      "source": [
        "ACCESS_KEY = \"\"\n",
        "SECRET = \"\""
      ]
    },
    {
      "cell_type": "code",
      "execution_count": 28,
      "metadata": {
        "id": "KkY9LFdENJq1"
      },
      "outputs": [],
      "source": [
        "s3 = S3FileSystem(key=ACCESS_KEY, secret=SECRET)"
      ]
    },
    {
      "cell_type": "code",
      "execution_count": 29,
      "metadata": {
        "id": "ERuMlCNAdEvQ"
      },
      "outputs": [],
      "source": [
        "FOLDER_NAME = \"attribute_events\"\n",
        "\n",
        "columns = [ \"name\", \"id\", \"value\" ]\n",
        "\n",
        "for i, x in attributes_df.groupby([\"match_date\"]):\n",
        "  with s3.open(f\"{BUCKET_NAME}/{FOLDER_NAME}/{FOLDER_NAME}_{i}.csv\",'w') as f:\n",
        "        x[columns].to_csv(f, index=False)"
      ]
    },
    {
      "cell_type": "code",
      "execution_count": 30,
      "metadata": {
        "id": "ds0vIZ0BJcCy"
      },
      "outputs": [],
      "source": [
        "columns = [\n",
        "      \"match_id\",\n",
        "      \"match_date\",\n",
        "      \"home_score\",\n",
        "      \"away_score\",\n",
        "      \"competition.competition_id\",\n",
        "      \"season.season_id\",\n",
        "      \"home_team.home_team_id\",\n",
        "      \"home_team.home_team_name\",\n",
        "      \"away_team.away_team_id\",\n",
        "      \"away_team.away_team_name\" ]\n",
        "\n",
        "FOLDER_NAME = \"matches\"\n",
        "\n",
        "with s3.open(f\"{BUCKET_NAME}/{FOLDER_NAME}/{FOLDER_NAME}_{FILE_SUFFIX}.csv\",'w') as f:\n",
        "      matches_df[columns].set_index(\"match_id\").to_csv(f)"
      ]
    },
    {
      "cell_type": "code",
      "execution_count": 31,
      "metadata": {
        "id": "C8k6fV1lXw22"
      },
      "outputs": [],
      "source": [
        "columns = [\n",
        "  \"id\",\n",
        "  \"period\",\n",
        "  \"minute\",\n",
        "  \"second\",\n",
        "  \"possession\",\n",
        "  \"type.id\",\n",
        "  \"type.name\",\n",
        "  \"match_id\",\n",
        "  \"possession_team.id\",\n",
        "  \"play_pattern.name\",\n",
        "  \"team.id\",\n",
        "  \"player.name\",\n",
        "  \"location\",\n",
        "  \"duration\",\n",
        "  \"out\",\n",
        "]\n",
        "\n",
        "FOLDER_NAME = \"events\"\n",
        "\n",
        "for i, x in events_df.groupby([\"match_date\"]):\n",
        "   with s3.open(f\"{BUCKET_NAME}/{FOLDER_NAME}/{FOLDER_NAME}_{i}.csv\",'w') as f:\n",
        "      x[columns].set_index(\"id\").to_csv(f)"
      ]
    },
    {
      "cell_type": "code",
      "execution_count": 32,
      "metadata": {
        "id": "YhAqOp88t1MR"
      },
      "outputs": [],
      "source": [
        "player_stats = [\n",
        "  \"shooting\",\n",
        "  \"power_strength\",\n",
        "  \"power_stamina\",\n",
        "  \"power_shot_power\",\n",
        "  \"power_long_shots\",\n",
        "  \"power_jumping\",\n",
        "  \"physic\",\n",
        "  \"passing\",\n",
        "  \"pace\",\n",
        "  \"movement_sprint_speed\",\n",
        "  \"movement_reactions\",\n",
        "  \"movement_balance\",\n",
        "  \"movement_agility\",\n",
        "  \"movement_acceleration\",\n",
        "  \"mentality_vision\",\n",
        "  \"mentality_positioning\",\n",
        "  \"mentality_penalties\",\n",
        "  \"mentality_interceptions\",\n",
        "  \"mentality_composure\",\n",
        "  \"mentality_aggression\",\n",
        "  \"goalkeeping_speed\",\n",
        "  \"goalkeeping_reflexes\",\n",
        "  \"goalkeeping_positioning\",\n",
        "  \"goalkeeping_kicking\",\n",
        "  \"goalkeeping_handling\",\n",
        "  \"goalkeeping_diving\",\n",
        "  \"dribbling\",\n",
        "  \"defending_standing_tackle\",\n",
        "  \"defending_sliding_tackle\",\n",
        "  \"defending_marking_awareness\",\n",
        "  \"defending\",\n",
        "  \"attacking_volleys\",\n",
        "  \"attacking_short_passing\",\n",
        "  \"attacking_heading_accuracy\",\n",
        "  \"attacking_finishing\",\n",
        "  \"attacking_crossing\",\n",
        "]\n",
        "\n",
        "event_players[player_stats] = np.array(event_players[player_stats], np.int16)"
      ]
    },
    {
      "cell_type": "code",
      "execution_count": 33,
      "metadata": {
        "id": "qID0bsJyYCpn"
      },
      "outputs": [],
      "source": [
        "columns = [\n",
        "  \"sofifa_id\",\n",
        "  \"long_name\",\n",
        "  \"nationality_name\",\n",
        "  \"dob\",\n",
        "  \"player_positions\",\n",
        "  \"overall\",\n",
        "  \"potential\",\n",
        "  \"value_eur\",\n",
        "  \"wage_eur\",\n",
        "  \"work_rate\",\n",
        "  \"weight_kg\",\n",
        "  \"height_cm\",\n",
        "  \"weak_foot\",\n",
        "  \"skill_moves\",\n",
        "  \"preferred_foot\",\n",
        "]\n",
        "columns = [*columns, *player_stats]\n",
        "\n",
        "FOLDER_NAME = \"players\"\n",
        "TABLE_NAME = \"LaLiga14-22\"\n",
        "\n",
        "with s3.open(f\"{BUCKET_NAME}/{FOLDER_NAME}/{TABLE_NAME}.csv\",'w') as f:\n",
        "      event_players[columns].set_index(\"sofifa_id\").to_csv(f)"
      ]
    }
  ],
  "metadata": {
    "colab": {
      "name": "udacity_capstone.ipynb",
      "provenance": []
    },
    "kernelspec": {
      "display_name": "Python 3",
      "name": "python3"
    },
    "language_info": {
      "name": "python"
    }
  },
  "nbformat": 4,
  "nbformat_minor": 0
}
